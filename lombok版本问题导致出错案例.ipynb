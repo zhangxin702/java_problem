{
 "cells": [
  {
   "cell_type": "markdown",
   "metadata": {},
   "source": [
    "问题一：在一切代码正常的情况下，显示错误，java: 找不到符号 符号: 变量 log。如下面代码所示："
   ]
  },
  {
   "cell_type": "code",
   "execution_count": null,
   "metadata": {},
   "outputs": [],
   "source": [
    "import lombok.extern.slf4j.Slf4j;\n",
    "\n",
    "import org.springframework.web.bind.annotation.RequestMapping;\n",
    "import org.springframework.web.bind.annotation.RestController;\n",
    "\n",
    "@Slf4j\n",
    "@RestController\n",
    "public class Controller {\n",
    "    @RequestMapping(\"/dept\")\n",
    "    public Result list() {\n",
    "\n",
    "        log.info(\"查询部门信息\");\n",
    "        return Result.success();\n",
    "    }\n",
    "}"
   ]
  },
  {
   "cell_type": "code",
   "execution_count": null,
   "metadata": {},
   "outputs": [],
   "source": [
    "问题二：明明加入了注解,@allargsconstructor 还是显示 无法将类 project.pojo.result中的构造器 result应用到给定类型"
   ]
  },
  {
   "cell_type": "code",
   "execution_count": null,
   "metadata": {},
   "outputs": [],
   "source": [
    "改正方法，在pom.xml中加入lombok插件最新版本\n",
    "<dependency>\n",
    "    <groupId>org.projectlombok</groupId>\n",
    "    <artifactId>lombok</artifactId>\n",
    "    <version>1.18.12</version>\n",
    "    <scope>provided</scope>\n",
    "</dependency>"
   ]
  }
 ],
 "metadata": {
  "language_info": {
   "name": "python"
  }
 },
 "nbformat": 4,
 "nbformat_minor": 2
}
